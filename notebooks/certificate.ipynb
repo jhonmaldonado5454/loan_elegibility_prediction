{
 "cells": [
  {
   "cell_type": "markdown",
   "metadata": {},
   "source": [
    "## Getting your certificate\n",
    "\n",
    "Congratulations on finishing the course!\n",
    "\n",
    "Here's how you can get your certificate.\n",
    "\n",
    "First, get your certificate id using the `compute_certificate_id` function:\n"
   ]
  },
  {
   "cell_type": "code",
   "execution_count": 3,
   "metadata": {},
   "outputs": [],
   "source": [
    "from hashlib import sha1\n",
    "\n",
    "def compute_hash(email):\n",
    "    return sha1(email.encode('utf-8')).hexdigest()\n",
    "\n",
    "def compute_certificate_id(email):\n",
    "    email_clean = email.lower().strip()\n",
    "    return compute_hash(email_clean + '_')"
   ]
  },
  {
   "cell_type": "markdown",
   "metadata": {},
   "source": [
    "Then use this hash to get the URL"
   ]
  },
  {
   "cell_type": "code",
   "execution_count": 4,
   "metadata": {},
   "outputs": [
    {
     "name": "stdout",
     "output_type": "stream",
     "text": [
      "https://certificate.datatalks.club/mlops-zoomcamp/2024/cfa9b9275cf3c177f5ce43bcdb5f49ca6f37c763.pdf\n"
     ]
    }
   ],
   "source": [
    "cohort = 2024\n",
    "course = 'mlops-zoomcamp'\n",
    "your_id = compute_certificate_id('example@gmail.com')\n",
    "url = f\"https://certificate.datatalks.club/{course}/{cohort}/{your_id}.pdf\"\n",
    "print(url)"
   ]
  },
  {
   "cell_type": "markdown",
   "metadata": {},
   "source": [
    "## Adding to LinkedIn\n",
    "\n",
    "You can add your certificate to LinkedIn:\n",
    "\n",
    "* Log in to your LinkedIn account, then go to your profile.\n",
    "* On the right, in the \"Add profile\" section dropdown, choose \"Background\" and then select the drop-down triangle next to \"Licenses & Certifications\".\n",
    "* In \"Name\", enter \"MLOps Zoomcamp\".\n",
    "* In \"Issuing Organization\", enter \"DataTalksClub\".\n",
    "* (Optional) In \"Issue Date\", enter the time when the certificate was created.\n",
    "* (Optional) Select the checkbox This certification does not expire. \n",
    "* Put your certificate ID.\n",
    "* In \"Certification URL\", enter the URL for your certificate.\n",
    "\n",
    "[Adapted from here](https://support.edx.org/hc/en-us/articles/206501938-How-can-I-add-my-certificate-to-my-LinkedIn-profile-)\n"
   ]
  }
 ],
 "metadata": {
  "kernelspec": {
   "display_name": "Python 3",
   "language": "python",
   "name": "python3"
  },
  "language_info": {
   "codemirror_mode": {
    "name": "ipython",
    "version": 3
   },
   "file_extension": ".py",
   "mimetype": "text/x-python",
   "name": "python",
   "nbconvert_exporter": "python",
   "pygments_lexer": "ipython3",
   "version": "3.10.13"
  }
 },
 "nbformat": 4,
 "nbformat_minor": 2
}
